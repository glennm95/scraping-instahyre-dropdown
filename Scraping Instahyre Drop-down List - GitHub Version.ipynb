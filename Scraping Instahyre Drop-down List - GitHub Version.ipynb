{
 "cells": [
  {
   "cell_type": "markdown",
   "id": "93260a29",
   "metadata": {},
   "source": [
    "Run these notebook commands in order of cell succession for a proper non-erroneous output"
   ]
  },
  {
   "cell_type": "markdown",
   "id": "34cafc53",
   "metadata": {},
   "source": [
    "Our first import: Selenium!\n",
    "\n",
    "Refer to the Selenium documentation @ https://www.selenium.dev/documentation/ for a complete guide to browser automation"
   ]
  },
  {
   "cell_type": "code",
   "execution_count": 1,
   "id": "fc764e2b",
   "metadata": {},
   "outputs": [],
   "source": [
    "from selenium import webdriver"
   ]
  },
  {
   "cell_type": "markdown",
   "id": "33bd80b6",
   "metadata": {},
   "source": [
    "You'll need to download the browser specific driver to work with Selenium. Download the Chrome driver here: https://chromedriver.chromium.org/\n",
    "\n",
    "Get the path to where the Chrome Web Driver has been installed on your system. "
   ]
  },
  {
   "cell_type": "code",
   "execution_count": 2,
   "id": "3afb57f3",
   "metadata": {},
   "outputs": [],
   "source": [
    "path_to_driver = \"C:/Users/<desktop-user>/Downloads/chromedriver_win32/chromedriver.exe\""
   ]
  },
  {
   "cell_type": "markdown",
   "id": "6c755085",
   "metadata": {},
   "source": [
    "Get a driver object to automate your browser session"
   ]
  },
  {
   "cell_type": "code",
   "execution_count": 3,
   "id": "ebd70d3d",
   "metadata": {},
   "outputs": [
    {
     "name": "stderr",
     "output_type": "stream",
     "text": [
      "C:\\Users\\glenn\\AppData\\Local\\Temp\\ipykernel_11172\\3286716668.py:2: DeprecationWarning: executable_path has been deprecated, please pass in a Service object\n",
      "  driver = webdriver.Chrome(path_to_driver)\n"
     ]
    }
   ],
   "source": [
    "# opens a Chrome browser window\n",
    "driver = webdriver.Chrome(path_to_driver)"
   ]
  },
  {
   "cell_type": "markdown",
   "id": "184bfd03",
   "metadata": {},
   "source": [
    "Many commonly used methods have been deprecated in Selenium 4 and replaced with newer versions. \n",
    "\n",
    "Let's resolve the warning by following the warning message direction."
   ]
  },
  {
   "cell_type": "code",
   "execution_count": 4,
   "id": "6dd64146",
   "metadata": {},
   "outputs": [],
   "source": [
    "# close the above browser window\n",
    "driver.quit() "
   ]
  },
  {
   "cell_type": "markdown",
   "id": "463db5a2",
   "metadata": {},
   "source": [
    "We need the below import to create a Service object"
   ]
  },
  {
   "cell_type": "code",
   "execution_count": 5,
   "id": "16e8da23",
   "metadata": {},
   "outputs": [],
   "source": [
    "from selenium.webdriver.chrome.service import Service"
   ]
  },
  {
   "cell_type": "markdown",
   "id": "f297bba8",
   "metadata": {},
   "source": [
    "Create a service object by passing in the executable path to the Chrome driver"
   ]
  },
  {
   "cell_type": "code",
   "execution_count": 6,
   "id": "2c25ab29",
   "metadata": {},
   "outputs": [],
   "source": [
    "service = Service(path_to_driver)"
   ]
  },
  {
   "cell_type": "markdown",
   "id": "5a69e6f4",
   "metadata": {},
   "source": [
    "Now pass in this service object to the webdriver as suggested by the warning above"
   ]
  },
  {
   "cell_type": "code",
   "execution_count": 7,
   "id": "bf947b3c",
   "metadata": {},
   "outputs": [],
   "source": [
    "driver = webdriver.Chrome(service=service)"
   ]
  },
  {
   "cell_type": "markdown",
   "id": "6b833769",
   "metadata": {},
   "source": [
    "Selenium now opens a new Chrome browser window! This window will be controlled through the script we write here. \n",
    "\n",
    "Now let's initialize a few variables that our driver will use to navigate to the required login page and fill in the login credentials."
   ]
  },
  {
   "cell_type": "code",
   "execution_count": 8,
   "id": "baa4e046",
   "metadata": {},
   "outputs": [],
   "source": [
    "login_url = \"https://www.instahyre.com/login/\"\n",
    "\n",
    "email = \"<enter-your-email-here>\"\n",
    "password = \"<enter-your-password-here>\""
   ]
  },
  {
   "cell_type": "markdown",
   "id": "c649c789",
   "metadata": {},
   "source": [
    "We can make selenium navigate to a particular website using a GET request, passing in the URL to the driver.get() method. Here we pass in the login_url to get to the login landing page."
   ]
  },
  {
   "cell_type": "code",
   "execution_count": 9,
   "id": "0b4c79df",
   "metadata": {},
   "outputs": [],
   "source": [
    "driver.get(login_url)"
   ]
  },
  {
   "cell_type": "markdown",
   "id": "876ee265",
   "metadata": {},
   "source": [
    "Now to fill in our login credentials at the required spot, we have to first tell Selenium where that spot is on the web page. HTML tags are well suited for this task. \n",
    "\n",
    "In order to get the tag info of a particular HTML element, we simply have to right-click on that element and choose 'Inspect' from the drop-down that appears. Chrome will open the 'Developer tools' panel and the HTML tag of that particular element will be highlighted wherein you can find various attributes associated with the tag. These attributes will help us find the specific element that we want to interact with. \n",
    "\n",
    "For our scenario, on our webpage: \"https://www.instahyre.com/login/\", the id attribute for our Email input field is \"email\". Therefore we can use the find_element_by_id() method to pin-point the exact HTML element that we're looking for. We could also use the name attribute for the Email input which again is \"email\" and then use the find_element_by_name() method. Similarly, we can get the id of the password input as well.\n",
    "\n",
    "We finally chain it with the send_keys() method that passes the data we want to populate the input fields with."
   ]
  },
  {
   "cell_type": "code",
   "execution_count": 10,
   "id": "bffb87ad",
   "metadata": {},
   "outputs": [
    {
     "name": "stderr",
     "output_type": "stream",
     "text": [
      "C:\\Users\\glenn\\AppData\\Local\\Temp\\ipykernel_11172\\2931890546.py:1: DeprecationWarning: find_element_by_* commands are deprecated. Please use find_element() instead\n",
      "  driver.find_element_by_id(\"email\").send_keys(email)\n",
      "C:\\Users\\glenn\\AppData\\Local\\Temp\\ipykernel_11172\\2931890546.py:2: DeprecationWarning: find_element_by_* commands are deprecated. Please use find_element() instead\n",
      "  driver.find_element_by_id(\"password\").send_keys(password)\n"
     ]
    }
   ],
   "source": [
    "driver.find_element_by_id(\"email\").send_keys(email)\n",
    "driver.find_element_by_id(\"password\").send_keys(password)"
   ]
  },
  {
   "cell_type": "markdown",
   "id": "fc5ac851",
   "metadata": {},
   "source": [
    "Clearly, the above methods have been deprecated in Selenium 4 hence we will use the find_element() method further on. For more user documentation on find_element(), refer to: https://www.selenium.dev/documentation/webdriver/elements/finders/ and for the Selenium API for Python refer: https://www.selenium.dev/selenium/docs/api/py/api.html (Use the quick search tool to find the required methods)"
   ]
  },
  {
   "cell_type": "markdown",
   "id": "9d2bf939",
   "metadata": {},
   "source": [
    "After filling in our email and password, we need to \"click\" the login button on the page. For that, we again \"find\" the login button and use the click() method on it. The click method is used to click on any element, such as an anchor tag, a link, etc. source: https://www.geeksforgeeks.org/click-element-method-selenium-python/. \n",
    "\n",
    "Here we use the click method on the login button element and we'll use find_element() method for locating the specific button. Since we'll be locating the element by XPath, we pass in 'xpath' argument to find_element() and to get the XPath, simply right-click the element's tag on the inspect panel and click Copy -> Copy full XPath and pass the XPath to find_element."
   ]
  },
  {
   "cell_type": "code",
   "execution_count": 11,
   "id": "718c2aac",
   "metadata": {},
   "outputs": [],
   "source": [
    "driver.find_element('xpath', \"/html/body/div[1]/div[2]/div[2]/div/div/form/div[3]/button\").click()"
   ]
  },
  {
   "cell_type": "markdown",
   "id": "30ef2ee3",
   "metadata": {},
   "source": [
    "We have now successfully logged in to the website!"
   ]
  },
  {
   "cell_type": "markdown",
   "id": "ce240a4c",
   "metadata": {},
   "source": [
    "The drop-down list we're trying to scrape is present on the profile page hence first we get the URL of the profile page i.e. https://www.instahyre.com/candidate/profile/. Landing on this page is authorized only after a successful login. "
   ]
  },
  {
   "cell_type": "code",
   "execution_count": 12,
   "id": "8c638dab",
   "metadata": {},
   "outputs": [],
   "source": [
    "profile_url = \"https://www.instahyre.com/candidate/profile/\""
   ]
  },
  {
   "cell_type": "code",
   "execution_count": 13,
   "id": "67e45ed0",
   "metadata": {},
   "outputs": [],
   "source": [
    "driver.get(profile_url)"
   ]
  },
  {
   "cell_type": "markdown",
   "id": "77ea9172",
   "metadata": {},
   "source": [
    "The drop-down list appears when we click on the Edit button of the 'Skills' section in the profile. However the Edit button of the 'Skills' section becomes active only once the 'Skills' section comes into view. Therefore to scroll up to bring the section fully into view, we get a reference to the prior 'Job Preferences' section and then use the execute_script method to execute the required JavaScript."
   ]
  },
  {
   "cell_type": "code",
   "execution_count": 14,
   "id": "1a690486",
   "metadata": {},
   "outputs": [],
   "source": [
    "skills_element = driver.find_element(by='id', value='job-preferences')\n",
    "driver.execute_script(\"arguments[0].scrollIntoView();\", skills_element)"
   ]
  },
  {
   "cell_type": "markdown",
   "id": "142ab094",
   "metadata": {},
   "source": [
    "Now, \"click\" the 'Skills' Edit button"
   ]
  },
  {
   "cell_type": "code",
   "execution_count": 15,
   "id": "29bb8f98",
   "metadata": {},
   "outputs": [],
   "source": [
    "driver.find_element(by='xpath',value=\"/html/body/div[1]/div[2]/div[2]/div/div[1]/div/div[2]/div[3]/a\").click()"
   ]
  },
  {
   "cell_type": "markdown",
   "id": "4d4ed6dd",
   "metadata": {},
   "source": [
    "After the above step we now have the html for the drop-down list loaded on the webpage, hence we will parse this html and extract the data using the Beautiful Soup library. The page_source attribute of the driver returns the html content of the page"
   ]
  },
  {
   "cell_type": "code",
   "execution_count": 16,
   "id": "c14c66e4",
   "metadata": {},
   "outputs": [],
   "source": [
    "html = driver.page_source"
   ]
  },
  {
   "cell_type": "markdown",
   "id": "d2a1d5f2",
   "metadata": {},
   "source": [
    "Importing Beautiful Soup and a parser like lxml:"
   ]
  },
  {
   "cell_type": "code",
   "execution_count": 17,
   "id": "121bc37f",
   "metadata": {},
   "outputs": [],
   "source": [
    "from bs4 import BeautifulSoup\n",
    "import lxml"
   ]
  },
  {
   "cell_type": "markdown",
   "id": "d7eb4906",
   "metadata": {},
   "source": [
    "Refer the BeautifulSoup documentation here: https://www.crummy.com/software/BeautifulSoup/bs4/doc/\n",
    "\n",
    "Running the html doc through Beautiful Soup gives us a BeautifulSoup object aptly refered to as 'soup'. We also pass in the parser as an argument."
   ]
  },
  {
   "cell_type": "code",
   "execution_count": 18,
   "id": "420fc927",
   "metadata": {},
   "outputs": [],
   "source": [
    "soup = BeautifulSoup(html, 'lxml')"
   ]
  },
  {
   "cell_type": "markdown",
   "id": "4fa7710f",
   "metadata": {},
   "source": [
    "Now, in order to extract the items from the drop-down list, we 'Inspect' the particular drop-down i.e. the drop-down list under 'Select your preferred role'. This highlights a select tag in the developer tools panel. \n",
    "\n",
    "Select tags are used to create drop-down lists and since the page might contain multiple drop-downs, we iterate through all such 'selects' to find the drop-down that has the value of the 'form-name' attribute as 'candidate_skills' because that's the exact drop-down we're looking for. Also we can make sure that no other drop-downs with the same 'form-name' value are present on the page by taking a look at the list returned by soup.find_all('select')"
   ]
  },
  {
   "cell_type": "code",
   "execution_count": 19,
   "id": "ee7053cd",
   "metadata": {},
   "outputs": [],
   "source": [
    "for drop_down in soup.find_all('select'):\n",
    "    if drop_down['form-name']==\"candidate_skills\":\n",
    "        break\n",
    "\n",
    "# storing the tag content in the skills_soup variable\n",
    "skills_soup = drop_down"
   ]
  },
  {
   "cell_type": "markdown",
   "id": "168b3a42",
   "metadata": {},
   "source": [
    "To make sure we got the right select tag, let's display it:"
   ]
  },
  {
   "cell_type": "code",
   "execution_count": 20,
   "id": "b6da3064",
   "metadata": {},
   "outputs": [
    {
     "data": {
      "text/plain": [
       "'<select auctioned-field=\"\" autofocus=\"\" child=\"true\" class=\"form-control ng-pristine ng-valid\" form-name=\"candidate_skills\" name=\"job_function\" ng-model=\"candidate.jsp.job_function.resource_uri\" ng-options=\"function.resource_uri as function.name group by function.job_category.name for function in jobFunctions\">\\n <optgroup label=\"Software Engineering\">\\n  <option label=\"Backend Development\" selected=\"selected\" value=\"0\">\\n   Backend Development\\n  </option>\\n  <option label=\"Big Data / DWH / ETL\" value=\"1\">\\n   Big Data / DWH / ETL\\n  </option>\\n  <option label=\"Embedded / Kernel Development\" value=\"2\">\\n   Embedded / Kernel Development\\n  </option>\\n  <option label=\"Frontend Development\" value=\"3\">\\n   Frontend Development\\n  </option>\\n  <option label=\"Full-Stack Development\" value=\"4\">\\n   Full-Stack Development\\n  </option>\\n  <option label=\"Mobile Development\" value=\"5\">\\n   Mobile Development\\n  </option>\\n  <option label=\"QA / SDET\" value=\"6\">\\n   QA / SDET\\n  </option>\\n  <option label=\"Other Software Development\" value=\"7\">\\n   Other Software Development\\n  </option>\\n </optgroup>\\n <optgroup label=\"Technical Management\">\\n  <option label=\"Engineering Management\" value=\"8\">\\n   Engineering Management\\n  </option>\\n  <option label=\"Product Management\" value=\"9\">\\n   Product Management\\n  </option>\\n  <option label=\"Project Management\" value=\"10\">\\n   Project Management\\n  </option>\\n </optgroup>\\n <optgroup label=\"Data Science and Analysis\">\\n  <option label=\"Data Analysis / Business Intelligence\" value=\"11\">\\n   Data Analysis / Business Intelligence\\n  </option>\\n  <option label=\"Data Science / Machine Learning\" value=\"12\">\\n   Data Science / Machine Learning\\n  </option>\\n </optgroup>\\n <optgroup label=\"Design and Creative\">\\n  <option label=\"Graphic Design / Animation\" value=\"13\">\\n   Graphic Design / Animation\\n  </option>\\n  <option label=\"Photography / Videography\" value=\"14\">\\n   Photography / Videography\\n  </option>\\n  <option label=\"UX / Visual Design\" value=\"15\">\\n   UX / Visual Design\\n  </option>\\n  <option label=\"Other Design\" value=\"16\">\\n   Other Design\\n  </option>\\n </optgroup>\\n <optgroup label=\"IT Operations and Support\">\\n  <option label=\"Database Admin / Development\" value=\"17\">\\n   Database Admin / Development\\n  </option>\\n  <option label=\"DevOps / Cloud\" value=\"18\">\\n   DevOps / Cloud\\n  </option>\\n  <option label=\"Functional / Technical Consulting\" value=\"19\">\\n   Functional / Technical Consulting\\n  </option>\\n  <option label=\"IT Management / IT Support\" value=\"20\">\\n   IT Management / IT Support\\n  </option>\\n  <option label=\"IT Security\" value=\"21\">\\n   IT Security\\n  </option>\\n  <option label=\"Network Administration\" value=\"22\">\\n   Network Administration\\n  </option>\\n  <option label=\"Solution Architecture / Presales\" value=\"23\">\\n   Solution Architecture / Presales\\n  </option>\\n  <option label=\"Systems Administration\" value=\"24\">\\n   Systems Administration\\n  </option>\\n  <option label=\"Technical / Production Support\" value=\"25\">\\n   Technical / Production Support\\n  </option>\\n  <option label=\"Technical Writing\" value=\"26\">\\n   Technical Writing\\n  </option>\\n </optgroup>\\n <optgroup label=\"Human Resources\">\\n  <option label=\"HR Generalist\" value=\"27\">\\n   HR Generalist\\n  </option>\\n  <option label=\"Talent Acquisition\" value=\"28\">\\n   Talent Acquisition\\n  </option>\\n </optgroup>\\n <optgroup label=\"Marketing\">\\n  <option label=\"Brand Management\" value=\"29\">\\n   Brand Management\\n  </option>\\n  <option label=\"Content Writing\" value=\"30\">\\n   Content Writing\\n  </option>\\n  <option label=\"Event Management\" value=\"31\">\\n   Event Management\\n  </option>\\n  <option label=\"Online Marketing\" value=\"32\">\\n   Online Marketing\\n  </option>\\n  <option label=\"PR / Communications\" value=\"33\">\\n   PR / Communications\\n  </option>\\n  <option label=\"SEO / SEM\" value=\"34\">\\n   SEO / SEM\\n  </option>\\n </optgroup>\\n <optgroup label=\"Sales and Business\">\\n  <option label=\"Customer Service\" value=\"35\">\\n   Customer Service\\n  </option>\\n  <option label=\"General Management / Strategy\" value=\"36\">\\n   General Management / Strategy\\n  </option>\\n  <option label=\"Sales / Business Development\" value=\"37\">\\n   Sales / Business Development\\n  </option>\\n </optgroup>\\n <optgroup label=\"Operations\">\\n  <option label=\"Accounting / Finance\" value=\"38\">\\n   Accounting / Finance\\n  </option>\\n  <option label=\"Operations Management\" value=\"39\">\\n   Operations Management\\n  </option>\\n </optgroup>\\n</select>\\n'"
      ]
     },
     "execution_count": 20,
     "metadata": {},
     "output_type": "execute_result"
    }
   ],
   "source": [
    "skills_soup.prettify()"
   ]
  },
  {
   "cell_type": "markdown",
   "id": "73bb7703",
   "metadata": {},
   "source": [
    "In the above tag content, we can see all the required info that we need, i.e. all the drop-down list elements. We choose to store this information in a dictionary with the key being the group label header and the values being the group items in a list. For example: \"Data Science and Analysis\" : [\"Data Analysis / Business Intelligence\", \"Data Science / Machine Learning\"]"
   ]
  },
  {
   "cell_type": "code",
   "execution_count": 21,
   "id": "d69dfcaf",
   "metadata": {},
   "outputs": [],
   "source": [
    "skills_dict = dict()"
   ]
  },
  {
   "cell_type": "markdown",
   "id": "fecd659d",
   "metadata": {},
   "source": [
    "Now we just loop through the select tag using the contents attribute. The contents of the select tag here are the various groups, and for each group we loop through it to get the group items, storing them in skills_dict"
   ]
  },
  {
   "cell_type": "code",
   "execution_count": 22,
   "id": "ffd4dbbc",
   "metadata": {},
   "outputs": [],
   "source": [
    "for optgroup in skills_soup.contents:\n",
    "    group_label = optgroup['label']\n",
    "    skills_dict[group_label] = []\n",
    "    for option in optgroup.contents:\n",
    "        skills_dict[group_label].append(option.string)"
   ]
  },
  {
   "cell_type": "markdown",
   "id": "0ebfc08d",
   "metadata": {},
   "source": [
    "Now let's display our skills_dict to check whether we extracted all required data"
   ]
  },
  {
   "cell_type": "code",
   "execution_count": 23,
   "id": "8513e3d3",
   "metadata": {},
   "outputs": [
    {
     "data": {
      "text/plain": [
       "{'Software Engineering': ['Backend Development',\n",
       "  'Big Data / DWH / ETL',\n",
       "  'Embedded / Kernel Development',\n",
       "  'Frontend Development',\n",
       "  'Full-Stack Development',\n",
       "  'Mobile Development',\n",
       "  'QA / SDET',\n",
       "  'Other Software Development'],\n",
       " 'Technical Management': ['Engineering Management',\n",
       "  'Product Management',\n",
       "  'Project Management'],\n",
       " 'Data Science and Analysis': ['Data Analysis / Business Intelligence',\n",
       "  'Data Science / Machine Learning'],\n",
       " 'Design and Creative': ['Graphic Design / Animation',\n",
       "  'Photography / Videography',\n",
       "  'UX / Visual Design',\n",
       "  'Other Design'],\n",
       " 'IT Operations and Support': ['Database Admin / Development',\n",
       "  'DevOps / Cloud',\n",
       "  'Functional / Technical Consulting',\n",
       "  'IT Management / IT Support',\n",
       "  'IT Security',\n",
       "  'Network Administration',\n",
       "  'Solution Architecture / Presales',\n",
       "  'Systems Administration',\n",
       "  'Technical / Production Support',\n",
       "  'Technical Writing'],\n",
       " 'Human Resources': ['HR Generalist', 'Talent Acquisition'],\n",
       " 'Marketing': ['Brand Management',\n",
       "  'Content Writing',\n",
       "  'Event Management',\n",
       "  'Online Marketing',\n",
       "  'PR / Communications',\n",
       "  'SEO / SEM'],\n",
       " 'Sales and Business': ['Customer Service',\n",
       "  'General Management / Strategy',\n",
       "  'Sales / Business Development'],\n",
       " 'Operations': ['Accounting / Finance', 'Operations Management']}"
      ]
     },
     "execution_count": 23,
     "metadata": {},
     "output_type": "execute_result"
    }
   ],
   "source": [
    "skills_dict"
   ]
  },
  {
   "cell_type": "markdown",
   "id": "3a29134c",
   "metadata": {},
   "source": [
    "Perfect! \n",
    "\n",
    "Now that we retrieved our data, it's best practice to logout from the site and close the browser window opened by Selenium."
   ]
  },
  {
   "cell_type": "code",
   "execution_count": 24,
   "id": "b25e1fa7",
   "metadata": {},
   "outputs": [],
   "source": [
    "driver.find_element('id', \"nav-candidates-logout\").click()"
   ]
  },
  {
   "cell_type": "markdown",
   "id": "1d8b17c0",
   "metadata": {},
   "source": [
    "We have successfully logged out!\n",
    "\n",
    "Note: For a small-size browser window, the sign out option is part the navigation bar/ overflow action menu indicated by three horizontal bars. Therefore if the above statement raises an exception then un-comment and run the statements below"
   ]
  },
  {
   "cell_type": "code",
   "execution_count": 25,
   "id": "0314656f",
   "metadata": {},
   "outputs": [],
   "source": [
    "# driver.find_element('xpath', \"/html/body/div[1]/nav/div/div[1]/button\").click()"
   ]
  },
  {
   "cell_type": "code",
   "execution_count": 26,
   "id": "ec3a3ac0",
   "metadata": {},
   "outputs": [],
   "source": [
    "# driver.find_element('id', \"nav-candidates-logout\").click()"
   ]
  },
  {
   "cell_type": "markdown",
   "id": "b0fada15",
   "metadata": {},
   "source": [
    "Finally, close the browser window."
   ]
  },
  {
   "cell_type": "code",
   "execution_count": 27,
   "id": "ba74e3d6",
   "metadata": {},
   "outputs": [],
   "source": [
    "driver.quit()"
   ]
  }
 ],
 "metadata": {
  "kernelspec": {
   "display_name": "Python 3 (ipykernel)",
   "language": "python",
   "name": "python3"
  },
  "language_info": {
   "codemirror_mode": {
    "name": "ipython",
    "version": 3
   },
   "file_extension": ".py",
   "mimetype": "text/x-python",
   "name": "python",
   "nbconvert_exporter": "python",
   "pygments_lexer": "ipython3",
   "version": "3.10.4"
  }
 },
 "nbformat": 4,
 "nbformat_minor": 5
}
